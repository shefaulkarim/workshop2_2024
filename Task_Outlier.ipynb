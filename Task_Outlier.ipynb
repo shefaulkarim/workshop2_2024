{
  "nbformat": 4,
  "nbformat_minor": 0,
  "metadata": {
    "colab": {
      "provenance": [],
      "mount_file_id": "1ArdpggiivRmQg_9-sf8CgDfwXJKWgLlu",
      "authorship_tag": "ABX9TyOeGjNkwjPXeYT+29cQIkmh",
      "include_colab_link": true
    },
    "kernelspec": {
      "name": "python3",
      "display_name": "Python 3"
    },
    "language_info": {
      "name": "python"
    }
  },
  "cells": [
    {
      "cell_type": "markdown",
      "metadata": {
        "id": "view-in-github",
        "colab_type": "text"
      },
      "source": [
        "<a href=\"https://colab.research.google.com/github/shefaulkarim/workshop2_2024/blob/main/Task_Outlier.ipynb\" target=\"_parent\"><img src=\"https://colab.research.google.com/assets/colab-badge.svg\" alt=\"Open In Colab\"/></a>"
      ]
    },
    {
      "cell_type": "code",
      "execution_count": null,
      "metadata": {
        "id": "nfRvcETzuowo"
      },
      "outputs": [],
      "source": []
    },
    {
      "cell_type": "code",
      "source": [
        "# @title Default title text\n",
        "import pandas as pd\n",
        "import numpy as np\n",
        "import matplotlib.pyplot as plt\n",
        "from sklearn.linear_model import LinearRegression\n",
        "from sklearn.metrics import mean_squared_error\n",
        "\n",
        "# You may have to change the path to the dataset\n",
        "data = pd.read_csv('/content/drive/MyDrive/Colab Notebooks/health_insurance.csv')\n",
        "data['smoker'] = data['smoker'].apply(lambda x: 1 if x == 'yes' else 0)\n",
        "\n",
        "# TODO: place your email here\n",
        "email = \"shefaulkarim@outlook.com\"\n",
        "\n",
        "\n",
        "# Define the remove_bad_outliers function using IQR on 'charges' column\n",
        "def remove_bad_outliers(data):\n",
        "    Q1 = np.percentile(data['charges'], 25)\n",
        "    Q3 = np.percentile(data['charges'], 75)\n",
        "    IQR = Q3 - Q1\n",
        "    Lower_bound = Q1 - 1.5 * IQR\n",
        "    Upper_bound = Q3 + 1.5 * IQR\n",
        "    # Filter data within bounds for 'charges' column\n",
        "    filtered_data = data[(data['charges'] >= Lower_bound) & (data['charges'] <= Upper_bound)]\n",
        "    return filtered_data\n",
        "\n",
        "# Initial Model Fitting (without outlier removal)\n",
        "x = data[['age', 'bmi', 'children', 'smoker']]\n",
        "y = data['charges']\n",
        "\n",
        "# Train the initial model and calculate initial MSE\n",
        "model = LinearRegression()\n",
        "model.fit(x, y)\n",
        "y_pred = model.predict(x)\n",
        "initial_mse = mean_squared_error(y, y_pred)\n",
        "\n",
        "# Outlier Removal and Model Fitting\n",
        "filtered_data = remove_bad_outliers(data)\n",
        "x_filtered = filtered_data[['age', 'bmi', 'children', 'smoker']]\n",
        "y_filtered = filtered_data['charges']\n",
        "\n",
        "# Train the model on filtered data and calculate the filtered MSE\n",
        "model_filtered = LinearRegression()\n",
        "model_filtered.fit(x_filtered, y_filtered)\n",
        "y_pred_filtered = model_filtered.predict(x_filtered)\n",
        "filtered_mse = mean_squared_error(y_filtered, y_pred_filtered)\n",
        "\n",
        "print('Initial MSE is :', initial_mse)\n",
        "print('filtered MSE is:', filtered_mse)"
      ],
      "metadata": {
        "colab": {
          "base_uri": "https://localhost:8080/"
        },
        "id": "qhZ3FIu_vJB4",
        "outputId": "1850cfc8-ea45-424b-b7d3-1c67a4c98fe8"
      },
      "execution_count": 4,
      "outputs": [
        {
          "output_type": "stream",
          "name": "stdout",
          "text": [
            "Initial MSE is : 36680455.99149378\n",
            "filtered MSE is: 21027312.500868745\n"
          ]
        }
      ]
    }
  ]
}